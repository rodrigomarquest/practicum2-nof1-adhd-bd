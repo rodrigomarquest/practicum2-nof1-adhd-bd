{
 "cells": [
  {
   "cell_type": "code",
   "execution_count": null,
   "id": "0f80c373",
   "metadata": {},
   "outputs": [],
   "source": [
    "import sys, importlib.metadata as md\n",
    "print(\"Python\", sys.version.split()[0])\n",
    "for p in [\"tensorflow\",\"pandas\",\"numpy\",\"scikit-learn\",\"shap\"]:\n",
    "    try: print(p, md.version(p))\n",
    "    except: pass"
   ]
  },
  {
   "cell_type": "markdown",
   "id": "3109ac2e",
   "metadata": {},
   "source": [
    "# NB-03_ML-ANY-LAB-baselines-6fold\n",
    "\n",
    "Temporal 6-fold baselines (supervised if labels available, otherwise unsupervised sketch).\n",
    "Outputs saved under `notebooks/outputs/{tables,figures,manifests}`."
   ]
  },
  {
   "cell_type": "code",
   "execution_count": null,
   "id": "efe45498",
   "metadata": {},
   "outputs": [],
   "source": [
    "# Standard setup: output dirs and environment detection\n",
    "from pathlib import Path\n",
    "OUT = Path('notebooks') / 'outputs'\n",
    "FIG = OUT / 'figures'\n",
    "TAB = OUT / 'tables'\n",
    "MAN = OUT / 'manifests'\n",
    "for d in (FIG, TAB, MAN): d.mkdir(parents=True, exist_ok=True)\n",
    "def detect_env():\n",
    "    import os\n",
    "    if 'KAGGLE_URL_BASE' in os.environ: return 'KAGGLE'\n",
    "    try:\n",
    "        import google.colab\n",
    "        return 'COLAB'\n",
    "    except Exception:\n",
    "        pass\n",
    "    return 'LOCAL'\n",
    "ENV = detect_env(); print('ENV=', ENV)"
   ]
  },
  {
   "cell_type": "code",
   "execution_count": null,
   "id": "7c1bb24b",
   "metadata": {},
   "outputs": [],
   "source": [
    "# AI-only guard and deps bootstrap (idempotent)\n",
    "import importlib, subprocess, sys\n",
    "if Path('data/raw').exists() or Path('data/etl').exists():\n",
    "    print('WARNING: repository contains data/raw or data/etl directories; notebook will not read them')\n",
    "REQS = ['pandas','numpy','scikit-learn','joblib','matplotlib']\n",
    "# xgboost is optional for supervised path"
   ]
  },
  {
   "cell_type": "code",
   "execution_count": null,
   "id": "123ac810",
   "metadata": {},
   "outputs": [],
   "source": [
    "# Choose supervised vs unsupervised path\n",
    "RESULTS = []\n",
    "METRICS = {},\n",
    "20251023\n",
    ","
   ]
  }
 ],
 "metadata": {
  "language_info": {
   "name": "python"
  }
 },
 "nbformat": 4,
 "nbformat_minor": 5
}
