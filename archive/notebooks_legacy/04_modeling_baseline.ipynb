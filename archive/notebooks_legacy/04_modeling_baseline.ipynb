{
 "cells": [
  {
   "cell_type": "markdown",
   "id": "c7f931ce",
   "metadata": {},
   "source": [
    "# Baseline modeling (temporal CV)\n",
    "This notebook runs the baseline training script and presents a compact summary of results."
   ]
  },
  {
   "cell_type": "code",
   "execution_count": null,
   "id": "154c58bc",
   "metadata": {},
   "outputs": [],
   "source": [
    "PID = 'P000001'\n",
    "SNAP = '2025-09-29'"
   ]
  },
  {
   "cell_type": "code",
   "execution_count": null,
   "id": "4b98b94b",
   "metadata": {},
   "outputs": [],
   "source": [
    "# Run training (guarded)\n",
    "import shutil, subprocess, sys\n",
    "req = 'requirements_ai_kaggle.txt'\n",
    "if (shutil.which('python')):\n",
    "    print('Invoking baseline trainer...')\n",
    "    subprocess.run([sys.executable, 'modeling/baseline_train.py', '--participant', PID, '--snapshot', SNAP, '--use_agg', 'auto'])"
   ]
  },
  {
   "cell_type": "code",
   "execution_count": null,
   "id": "36511f9c",
   "metadata": {},
   "outputs": [],
   "source": [
    "import json, pathlib\n",
    "out = pathlib.Path(f'data_ai/{PID}/snapshots/{SNAP}/modeling')\n",
    "if out.exists():\n",
    "    print('Artifacts:')\n",
    "    for p in out.iterdir():\n",
    "        print('-', p.name)\n",
    "    if (out / 'modeling_results.json').exists():\n",
    "        print('\n",
    "Summary:')\n",
    "        print(out.joinpath('modeling_results.json').read_text())\n",
    "else:\n",
    "    print('No outputs found; run the script first.')"
   ]
  }
 ],
 "metadata": {
  "language_info": {
   "name": "python"
  }
 },
 "nbformat": 4,
 "nbformat_minor": 5
}
